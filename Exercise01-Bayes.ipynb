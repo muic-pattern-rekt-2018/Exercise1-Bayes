{
 "cells": [
  {
   "cell_type": "code",
   "execution_count": 1,
   "metadata": {
    "ExecuteTime": {
     "end_time": "2021-04-27T03:29:04.319582Z",
     "start_time": "2021-04-27T03:28:59.617494Z"
    }
   },
   "outputs": [],
   "source": [
    "%matplotlib inline\n",
    "from matplotlib import pyplot as plt\n",
    "import numpy as np\n",
    "import pandas as pd\n",
    "import keyword\n",
    "from IPython.display import set_matplotlib_formats\n",
    "from pprint import pprint\n",
    "import patternrekt as prekt\n",
    "set_matplotlib_formats('retina')\n",
    "plt.style.use('seaborn-notebook')"
   ]
  },
  {
   "cell_type": "markdown",
   "metadata": {},
   "source": [
    "# Should We Eat the Mushroom\n",
    "> **Every mushroom is edible except some can be eaten exactly once.**\n",
    "\n",
    "In this class we will consider the problem of deciding whether the given mushroom is edible or poisonous.\n",
    "\n",
    "<img src=\"mushroom.JPG\" alt=\"Mushroom\" width=\"200\"/>\n",
    "\n",
    "Luckily we don't have to sacrifice anyone tasting mushrooms since certain brave souls have done that for us.\n",
    "Data from Kaggle: https://www.kaggle.com/uciml/mushroom-classification\n",
    "\n",
    "The data descibes the features of the mushroom and whether it is poisonous.\n"
   ]
  },
  {
   "cell_type": "markdown",
   "metadata": {},
   "source": [
    "## Basics Stuff"
   ]
  },
  {
   "cell_type": "markdown",
   "metadata": {},
   "source": [
    "### Reading Data"
   ]
  },
  {
   "cell_type": "code",
   "execution_count": 2,
   "metadata": {
    "ExecuteTime": {
     "end_time": "2021-04-27T03:37:42.018179Z",
     "start_time": "2021-04-27T03:37:41.974194Z"
    }
   },
   "outputs": [],
   "source": [
    "#reading Data (civilized way)\n",
    "df = pd.read_csv('mushrooms_train.csv')\n",
    "#fix messy column names\n",
    "#print(df.columns)\n",
    "df.columns = df.columns \\\n",
    "    .str.strip() \\\n",
    "    .str.lower() \\\n",
    "    .str.replace(' ', '_') \\\n",
    "    .str.replace('(', '') \\\n",
    "    .str.replace(')', '') \\\n",
    "    .str.replace('-','_') \\\n",
    "    .map(lambda x: 'x'+x if x in keyword.kwlist else x )\n",
    "#print(df.columns)\n",
    "#or if you want to go manual (My favorite)\n",
    "#data = np.genfromtxt('mushrooms.csv', skip_header=1, dtype=str, delimiter=',')"
   ]
  },
  {
   "cell_type": "code",
   "execution_count": 3,
   "metadata": {
    "ExecuteTime": {
     "end_time": "2021-04-27T03:38:32.356327Z",
     "start_time": "2021-04-27T03:38:32.309270Z"
    },
    "scrolled": false
   },
   "outputs": [
    {
     "data": {
      "text/html": [
       "<div>\n",
       "<style scoped>\n",
       "    .dataframe tbody tr th:only-of-type {\n",
       "        vertical-align: middle;\n",
       "    }\n",
       "\n",
       "    .dataframe tbody tr th {\n",
       "        vertical-align: top;\n",
       "    }\n",
       "\n",
       "    .dataframe thead th {\n",
       "        text-align: right;\n",
       "    }\n",
       "</style>\n",
       "<table border=\"1\" class=\"dataframe\">\n",
       "  <thead>\n",
       "    <tr style=\"text-align: right;\">\n",
       "      <th></th>\n",
       "      <th>xclass</th>\n",
       "      <th>cap_shape</th>\n",
       "      <th>cap_surface</th>\n",
       "      <th>cap_color</th>\n",
       "      <th>bruises</th>\n",
       "      <th>odor</th>\n",
       "      <th>gill_attachment</th>\n",
       "      <th>gill_spacing</th>\n",
       "      <th>gill_size</th>\n",
       "      <th>gill_color</th>\n",
       "      <th>...</th>\n",
       "      <th>stalk_surface_below_ring</th>\n",
       "      <th>stalk_color_above_ring</th>\n",
       "      <th>stalk_color_below_ring</th>\n",
       "      <th>veil_type</th>\n",
       "      <th>veil_color</th>\n",
       "      <th>ring_number</th>\n",
       "      <th>ring_type</th>\n",
       "      <th>spore_print_color</th>\n",
       "      <th>population</th>\n",
       "      <th>habitat</th>\n",
       "    </tr>\n",
       "  </thead>\n",
       "  <tbody>\n",
       "    <tr>\n",
       "      <td>0</td>\n",
       "      <td>p</td>\n",
       "      <td>x</td>\n",
       "      <td>s</td>\n",
       "      <td>n</td>\n",
       "      <td>t</td>\n",
       "      <td>p</td>\n",
       "      <td>f</td>\n",
       "      <td>c</td>\n",
       "      <td>n</td>\n",
       "      <td>k</td>\n",
       "      <td>...</td>\n",
       "      <td>s</td>\n",
       "      <td>w</td>\n",
       "      <td>w</td>\n",
       "      <td>p</td>\n",
       "      <td>w</td>\n",
       "      <td>o</td>\n",
       "      <td>p</td>\n",
       "      <td>k</td>\n",
       "      <td>s</td>\n",
       "      <td>u</td>\n",
       "    </tr>\n",
       "    <tr>\n",
       "      <td>1</td>\n",
       "      <td>e</td>\n",
       "      <td>x</td>\n",
       "      <td>s</td>\n",
       "      <td>y</td>\n",
       "      <td>t</td>\n",
       "      <td>a</td>\n",
       "      <td>f</td>\n",
       "      <td>c</td>\n",
       "      <td>b</td>\n",
       "      <td>k</td>\n",
       "      <td>...</td>\n",
       "      <td>s</td>\n",
       "      <td>w</td>\n",
       "      <td>w</td>\n",
       "      <td>p</td>\n",
       "      <td>w</td>\n",
       "      <td>o</td>\n",
       "      <td>p</td>\n",
       "      <td>n</td>\n",
       "      <td>n</td>\n",
       "      <td>g</td>\n",
       "    </tr>\n",
       "    <tr>\n",
       "      <td>2</td>\n",
       "      <td>e</td>\n",
       "      <td>b</td>\n",
       "      <td>s</td>\n",
       "      <td>w</td>\n",
       "      <td>t</td>\n",
       "      <td>l</td>\n",
       "      <td>f</td>\n",
       "      <td>c</td>\n",
       "      <td>b</td>\n",
       "      <td>n</td>\n",
       "      <td>...</td>\n",
       "      <td>s</td>\n",
       "      <td>w</td>\n",
       "      <td>w</td>\n",
       "      <td>p</td>\n",
       "      <td>w</td>\n",
       "      <td>o</td>\n",
       "      <td>p</td>\n",
       "      <td>n</td>\n",
       "      <td>n</td>\n",
       "      <td>m</td>\n",
       "    </tr>\n",
       "    <tr>\n",
       "      <td>3</td>\n",
       "      <td>p</td>\n",
       "      <td>x</td>\n",
       "      <td>y</td>\n",
       "      <td>w</td>\n",
       "      <td>t</td>\n",
       "      <td>p</td>\n",
       "      <td>f</td>\n",
       "      <td>c</td>\n",
       "      <td>n</td>\n",
       "      <td>n</td>\n",
       "      <td>...</td>\n",
       "      <td>s</td>\n",
       "      <td>w</td>\n",
       "      <td>w</td>\n",
       "      <td>p</td>\n",
       "      <td>w</td>\n",
       "      <td>o</td>\n",
       "      <td>p</td>\n",
       "      <td>k</td>\n",
       "      <td>s</td>\n",
       "      <td>u</td>\n",
       "    </tr>\n",
       "    <tr>\n",
       "      <td>4</td>\n",
       "      <td>e</td>\n",
       "      <td>x</td>\n",
       "      <td>s</td>\n",
       "      <td>g</td>\n",
       "      <td>f</td>\n",
       "      <td>n</td>\n",
       "      <td>f</td>\n",
       "      <td>w</td>\n",
       "      <td>b</td>\n",
       "      <td>k</td>\n",
       "      <td>...</td>\n",
       "      <td>s</td>\n",
       "      <td>w</td>\n",
       "      <td>w</td>\n",
       "      <td>p</td>\n",
       "      <td>w</td>\n",
       "      <td>o</td>\n",
       "      <td>e</td>\n",
       "      <td>n</td>\n",
       "      <td>a</td>\n",
       "      <td>g</td>\n",
       "    </tr>\n",
       "    <tr>\n",
       "      <td>...</td>\n",
       "      <td>...</td>\n",
       "      <td>...</td>\n",
       "      <td>...</td>\n",
       "      <td>...</td>\n",
       "      <td>...</td>\n",
       "      <td>...</td>\n",
       "      <td>...</td>\n",
       "      <td>...</td>\n",
       "      <td>...</td>\n",
       "      <td>...</td>\n",
       "      <td>...</td>\n",
       "      <td>...</td>\n",
       "      <td>...</td>\n",
       "      <td>...</td>\n",
       "      <td>...</td>\n",
       "      <td>...</td>\n",
       "      <td>...</td>\n",
       "      <td>...</td>\n",
       "      <td>...</td>\n",
       "      <td>...</td>\n",
       "      <td>...</td>\n",
       "    </tr>\n",
       "    <tr>\n",
       "      <td>6994</td>\n",
       "      <td>e</td>\n",
       "      <td>k</td>\n",
       "      <td>s</td>\n",
       "      <td>n</td>\n",
       "      <td>f</td>\n",
       "      <td>n</td>\n",
       "      <td>a</td>\n",
       "      <td>c</td>\n",
       "      <td>b</td>\n",
       "      <td>y</td>\n",
       "      <td>...</td>\n",
       "      <td>s</td>\n",
       "      <td>o</td>\n",
       "      <td>o</td>\n",
       "      <td>p</td>\n",
       "      <td>o</td>\n",
       "      <td>o</td>\n",
       "      <td>p</td>\n",
       "      <td>o</td>\n",
       "      <td>c</td>\n",
       "      <td>l</td>\n",
       "    </tr>\n",
       "    <tr>\n",
       "      <td>6995</td>\n",
       "      <td>p</td>\n",
       "      <td>f</td>\n",
       "      <td>y</td>\n",
       "      <td>e</td>\n",
       "      <td>f</td>\n",
       "      <td>s</td>\n",
       "      <td>f</td>\n",
       "      <td>c</td>\n",
       "      <td>n</td>\n",
       "      <td>b</td>\n",
       "      <td>...</td>\n",
       "      <td>s</td>\n",
       "      <td>p</td>\n",
       "      <td>w</td>\n",
       "      <td>p</td>\n",
       "      <td>w</td>\n",
       "      <td>o</td>\n",
       "      <td>e</td>\n",
       "      <td>w</td>\n",
       "      <td>v</td>\n",
       "      <td>d</td>\n",
       "    </tr>\n",
       "    <tr>\n",
       "      <td>6996</td>\n",
       "      <td>p</td>\n",
       "      <td>k</td>\n",
       "      <td>y</td>\n",
       "      <td>e</td>\n",
       "      <td>f</td>\n",
       "      <td>s</td>\n",
       "      <td>f</td>\n",
       "      <td>c</td>\n",
       "      <td>n</td>\n",
       "      <td>b</td>\n",
       "      <td>...</td>\n",
       "      <td>k</td>\n",
       "      <td>w</td>\n",
       "      <td>p</td>\n",
       "      <td>p</td>\n",
       "      <td>w</td>\n",
       "      <td>o</td>\n",
       "      <td>e</td>\n",
       "      <td>w</td>\n",
       "      <td>v</td>\n",
       "      <td>d</td>\n",
       "    </tr>\n",
       "    <tr>\n",
       "      <td>6997</td>\n",
       "      <td>e</td>\n",
       "      <td>k</td>\n",
       "      <td>f</td>\n",
       "      <td>w</td>\n",
       "      <td>f</td>\n",
       "      <td>n</td>\n",
       "      <td>f</td>\n",
       "      <td>w</td>\n",
       "      <td>b</td>\n",
       "      <td>p</td>\n",
       "      <td>...</td>\n",
       "      <td>s</td>\n",
       "      <td>w</td>\n",
       "      <td>w</td>\n",
       "      <td>p</td>\n",
       "      <td>w</td>\n",
       "      <td>t</td>\n",
       "      <td>p</td>\n",
       "      <td>w</td>\n",
       "      <td>s</td>\n",
       "      <td>g</td>\n",
       "    </tr>\n",
       "    <tr>\n",
       "      <td>6998</td>\n",
       "      <td>e</td>\n",
       "      <td>x</td>\n",
       "      <td>s</td>\n",
       "      <td>g</td>\n",
       "      <td>f</td>\n",
       "      <td>n</td>\n",
       "      <td>f</td>\n",
       "      <td>w</td>\n",
       "      <td>b</td>\n",
       "      <td>w</td>\n",
       "      <td>...</td>\n",
       "      <td>k</td>\n",
       "      <td>w</td>\n",
       "      <td>w</td>\n",
       "      <td>p</td>\n",
       "      <td>w</td>\n",
       "      <td>t</td>\n",
       "      <td>p</td>\n",
       "      <td>w</td>\n",
       "      <td>s</td>\n",
       "      <td>g</td>\n",
       "    </tr>\n",
       "  </tbody>\n",
       "</table>\n",
       "<p>6999 rows × 23 columns</p>\n",
       "</div>"
      ],
      "text/plain": [
       "     xclass cap_shape cap_surface cap_color bruises odor gill_attachment  \\\n",
       "0         p         x           s         n       t    p               f   \n",
       "1         e         x           s         y       t    a               f   \n",
       "2         e         b           s         w       t    l               f   \n",
       "3         p         x           y         w       t    p               f   \n",
       "4         e         x           s         g       f    n               f   \n",
       "...     ...       ...         ...       ...     ...  ...             ...   \n",
       "6994      e         k           s         n       f    n               a   \n",
       "6995      p         f           y         e       f    s               f   \n",
       "6996      p         k           y         e       f    s               f   \n",
       "6997      e         k           f         w       f    n               f   \n",
       "6998      e         x           s         g       f    n               f   \n",
       "\n",
       "     gill_spacing gill_size gill_color  ... stalk_surface_below_ring  \\\n",
       "0               c         n          k  ...                        s   \n",
       "1               c         b          k  ...                        s   \n",
       "2               c         b          n  ...                        s   \n",
       "3               c         n          n  ...                        s   \n",
       "4               w         b          k  ...                        s   \n",
       "...           ...       ...        ...  ...                      ...   \n",
       "6994            c         b          y  ...                        s   \n",
       "6995            c         n          b  ...                        s   \n",
       "6996            c         n          b  ...                        k   \n",
       "6997            w         b          p  ...                        s   \n",
       "6998            w         b          w  ...                        k   \n",
       "\n",
       "     stalk_color_above_ring stalk_color_below_ring veil_type veil_color  \\\n",
       "0                         w                      w         p          w   \n",
       "1                         w                      w         p          w   \n",
       "2                         w                      w         p          w   \n",
       "3                         w                      w         p          w   \n",
       "4                         w                      w         p          w   \n",
       "...                     ...                    ...       ...        ...   \n",
       "6994                      o                      o         p          o   \n",
       "6995                      p                      w         p          w   \n",
       "6996                      w                      p         p          w   \n",
       "6997                      w                      w         p          w   \n",
       "6998                      w                      w         p          w   \n",
       "\n",
       "     ring_number ring_type spore_print_color population habitat  \n",
       "0              o         p                 k          s       u  \n",
       "1              o         p                 n          n       g  \n",
       "2              o         p                 n          n       m  \n",
       "3              o         p                 k          s       u  \n",
       "4              o         e                 n          a       g  \n",
       "...          ...       ...               ...        ...     ...  \n",
       "6994           o         p                 o          c       l  \n",
       "6995           o         e                 w          v       d  \n",
       "6996           o         e                 w          v       d  \n",
       "6997           t         p                 w          s       g  \n",
       "6998           t         p                 w          s       g  \n",
       "\n",
       "[6999 rows x 23 columns]"
      ]
     },
     "metadata": {},
     "output_type": "display_data"
    }
   ],
   "source": [
    "display(df)"
   ]
  },
  {
   "cell_type": "markdown",
   "metadata": {},
   "source": [
    "### Accessing Rows"
   ]
  },
  {
   "cell_type": "code",
   "execution_count": 4,
   "metadata": {
    "ExecuteTime": {
     "end_time": "2021-04-27T03:39:35.055712Z",
     "start_time": "2021-04-27T03:39:35.032307Z"
    }
   },
   "outputs": [
    {
     "name": "stdout",
     "output_type": "stream",
     "text": [
      "Mushroom(Index=0, xclass='p', cap_shape='x', cap_surface='s', cap_color='n', bruises='t', odor='p', gill_attachment='f', gill_spacing='c', gill_size='n', gill_color='k', stalk_shape='e', stalk_root='e', stalk_surface_above_ring='s', stalk_surface_below_ring='s', stalk_color_above_ring='w', stalk_color_below_ring='w', veil_type='p', veil_color='w', ring_number='o', ring_type='p', spore_print_color='k', population='s', habitat='u')\n",
      "******* cap_shape x\n",
      "Mushroom(Index=1, xclass='e', cap_shape='x', cap_surface='s', cap_color='y', bruises='t', odor='a', gill_attachment='f', gill_spacing='c', gill_size='b', gill_color='k', stalk_shape='e', stalk_root='c', stalk_surface_above_ring='s', stalk_surface_below_ring='s', stalk_color_above_ring='w', stalk_color_below_ring='w', veil_type='p', veil_color='w', ring_number='o', ring_type='p', spore_print_color='n', population='n', habitat='g')\n",
      "******* cap_shape x\n",
      "n\n",
      "n\n"
     ]
    }
   ],
   "source": [
    "# This is how you iterate by row\n",
    "# Use this for now\n",
    "# Eventually you will learn that there is usually a better way to do it.\n",
    "# And that this is typically the last resort\n",
    "\n",
    "for row in df.itertuples(name=\"Mushroom\"):\n",
    "    if row.Index > 1:\n",
    "        break\n",
    "    print(row)\n",
    "    print('******* cap_shape', row.cap_shape)\n",
    "    \n",
    "# or you can access it by like this note it's bracket not parentheses\n",
    "print(df.iloc[300].odor)\n",
    "print(df.odor[300])\n"
   ]
  },
  {
   "cell_type": "markdown",
   "metadata": {},
   "source": [
    "### Basic Statistics"
   ]
  },
  {
   "cell_type": "code",
   "execution_count": 6,
   "metadata": {
    "ExecuteTime": {
     "end_time": "2021-04-27T03:42:07.544304Z",
     "start_time": "2021-04-27T03:42:07.444215Z"
    }
   },
   "outputs": [
    {
     "data": {
      "text/html": [
       "<div>\n",
       "<style scoped>\n",
       "    .dataframe tbody tr th:only-of-type {\n",
       "        vertical-align: middle;\n",
       "    }\n",
       "\n",
       "    .dataframe tbody tr th {\n",
       "        vertical-align: top;\n",
       "    }\n",
       "\n",
       "    .dataframe thead th {\n",
       "        text-align: right;\n",
       "    }\n",
       "</style>\n",
       "<table border=\"1\" class=\"dataframe\">\n",
       "  <thead>\n",
       "    <tr style=\"text-align: right;\">\n",
       "      <th></th>\n",
       "      <th>xclass</th>\n",
       "      <th>cap_shape</th>\n",
       "      <th>cap_surface</th>\n",
       "      <th>cap_color</th>\n",
       "      <th>bruises</th>\n",
       "      <th>odor</th>\n",
       "      <th>gill_attachment</th>\n",
       "      <th>gill_spacing</th>\n",
       "      <th>gill_size</th>\n",
       "      <th>gill_color</th>\n",
       "      <th>stalk_shape</th>\n",
       "      <th>stalk_root</th>\n",
       "      <th>stalk_surface_above_ring</th>\n",
       "      <th>stalk_surface_below_ring</th>\n",
       "      <th>stalk_color_above_ring</th>\n",
       "      <th>stalk_color_below_ring</th>\n",
       "      <th>veil_type</th>\n",
       "      <th>veil_color</th>\n",
       "      <th>ring_number</th>\n",
       "      <th>ring_type</th>\n",
       "      <th>spore_print_color</th>\n",
       "      <th>population</th>\n",
       "      <th>habitat</th>\n",
       "    </tr>\n",
       "  </thead>\n",
       "  <tbody>\n",
       "    <tr>\n",
       "      <td>count</td>\n",
       "      <td>6999</td>\n",
       "      <td>6999</td>\n",
       "      <td>6999</td>\n",
       "      <td>6999</td>\n",
       "      <td>6999</td>\n",
       "      <td>6999</td>\n",
       "      <td>6999</td>\n",
       "      <td>6999</td>\n",
       "      <td>6999</td>\n",
       "      <td>6999</td>\n",
       "      <td>6999</td>\n",
       "      <td>6999</td>\n",
       "      <td>6999</td>\n",
       "      <td>6999</td>\n",
       "      <td>6999</td>\n",
       "      <td>6999</td>\n",
       "      <td>6999</td>\n",
       "      <td>6999</td>\n",
       "      <td>6999</td>\n",
       "      <td>6999</td>\n",
       "      <td>6999</td>\n",
       "      <td>6999</td>\n",
       "      <td>6999</td>\n",
       "    </tr>\n",
       "    <tr>\n",
       "      <td>unique</td>\n",
       "      <td>2</td>\n",
       "      <td>6</td>\n",
       "      <td>4</td>\n",
       "      <td>10</td>\n",
       "      <td>2</td>\n",
       "      <td>9</td>\n",
       "      <td>2</td>\n",
       "      <td>2</td>\n",
       "      <td>2</td>\n",
       "      <td>12</td>\n",
       "      <td>2</td>\n",
       "      <td>5</td>\n",
       "      <td>4</td>\n",
       "      <td>4</td>\n",
       "      <td>9</td>\n",
       "      <td>9</td>\n",
       "      <td>1</td>\n",
       "      <td>4</td>\n",
       "      <td>3</td>\n",
       "      <td>5</td>\n",
       "      <td>9</td>\n",
       "      <td>6</td>\n",
       "      <td>7</td>\n",
       "    </tr>\n",
       "    <tr>\n",
       "      <td>top</td>\n",
       "      <td>e</td>\n",
       "      <td>x</td>\n",
       "      <td>y</td>\n",
       "      <td>n</td>\n",
       "      <td>f</td>\n",
       "      <td>n</td>\n",
       "      <td>f</td>\n",
       "      <td>c</td>\n",
       "      <td>b</td>\n",
       "      <td>p</td>\n",
       "      <td>t</td>\n",
       "      <td>b</td>\n",
       "      <td>s</td>\n",
       "      <td>s</td>\n",
       "      <td>w</td>\n",
       "      <td>w</td>\n",
       "      <td>p</td>\n",
       "      <td>w</td>\n",
       "      <td>o</td>\n",
       "      <td>p</td>\n",
       "      <td>n</td>\n",
       "      <td>v</td>\n",
       "      <td>d</td>\n",
       "    </tr>\n",
       "    <tr>\n",
       "      <td>freq</td>\n",
       "      <td>3743</td>\n",
       "      <td>3442</td>\n",
       "      <td>2892</td>\n",
       "      <td>1775</td>\n",
       "      <td>3651</td>\n",
       "      <td>3056</td>\n",
       "      <td>6982</td>\n",
       "      <td>5941</td>\n",
       "      <td>5116</td>\n",
       "      <td>1410</td>\n",
       "      <td>3986</td>\n",
       "      <td>3735</td>\n",
       "      <td>4528</td>\n",
       "      <td>4288</td>\n",
       "      <td>3884</td>\n",
       "      <td>3801</td>\n",
       "      <td>6999</td>\n",
       "      <td>6983</td>\n",
       "      <td>6682</td>\n",
       "      <td>3503</td>\n",
       "      <td>1924</td>\n",
       "      <td>3314</td>\n",
       "      <td>2890</td>\n",
       "    </tr>\n",
       "  </tbody>\n",
       "</table>\n",
       "</div>"
      ],
      "text/plain": [
       "       xclass cap_shape cap_surface cap_color bruises  odor gill_attachment  \\\n",
       "count    6999      6999        6999      6999    6999  6999            6999   \n",
       "unique      2         6           4        10       2     9               2   \n",
       "top         e         x           y         n       f     n               f   \n",
       "freq     3743      3442        2892      1775    3651  3056            6982   \n",
       "\n",
       "       gill_spacing gill_size gill_color stalk_shape stalk_root  \\\n",
       "count          6999      6999       6999        6999       6999   \n",
       "unique            2         2         12           2          5   \n",
       "top               c         b          p           t          b   \n",
       "freq           5941      5116       1410        3986       3735   \n",
       "\n",
       "       stalk_surface_above_ring stalk_surface_below_ring  \\\n",
       "count                      6999                     6999   \n",
       "unique                        4                        4   \n",
       "top                           s                        s   \n",
       "freq                       4528                     4288   \n",
       "\n",
       "       stalk_color_above_ring stalk_color_below_ring veil_type veil_color  \\\n",
       "count                    6999                   6999      6999       6999   \n",
       "unique                      9                      9         1          4   \n",
       "top                         w                      w         p          w   \n",
       "freq                     3884                   3801      6999       6983   \n",
       "\n",
       "       ring_number ring_type spore_print_color population habitat  \n",
       "count         6999      6999              6999       6999    6999  \n",
       "unique           3         5                 9          6       7  \n",
       "top              o         p                 n          v       d  \n",
       "freq          6682      3503              1924       3314    2890  "
      ]
     },
     "execution_count": 6,
     "metadata": {},
     "output_type": "execute_result"
    }
   ],
   "source": [
    "#some simple statistics\n",
    "pd.set_option('display.max_columns', 100)\n",
    "df.describe()"
   ]
  },
  {
   "cell_type": "code",
   "execution_count": 7,
   "metadata": {
    "ExecuteTime": {
     "end_time": "2021-04-27T03:42:07.675639Z",
     "start_time": "2021-04-27T03:42:07.666779Z"
    }
   },
   "outputs": [
    {
     "data": {
      "text/plain": [
       "x    3442\n",
       "f    2988\n",
       "b     323\n",
       "k     212\n",
       "s      32\n",
       "c       2\n",
       "Name: cap_shape, dtype: int64"
      ]
     },
     "execution_count": 7,
     "metadata": {},
     "output_type": "execute_result"
    }
   ],
   "source": [
    "df.cap_shape.value_counts()"
   ]
  },
  {
   "cell_type": "code",
   "execution_count": 8,
   "metadata": {
    "ExecuteTime": {
     "end_time": "2021-04-27T03:42:07.846452Z",
     "start_time": "2021-04-27T03:42:07.837291Z"
    }
   },
   "outputs": [
    {
     "data": {
      "text/plain": [
       "0       x\n",
       "1       x\n",
       "2       b\n",
       "3       x\n",
       "4       x\n",
       "       ..\n",
       "6994    k\n",
       "6995    f\n",
       "6996    k\n",
       "6997    k\n",
       "6998    x\n",
       "Name: cap_shape, Length: 6999, dtype: object"
      ]
     },
     "execution_count": 8,
     "metadata": {},
     "output_type": "execute_result"
    }
   ],
   "source": [
    "df.cap_shape"
   ]
  },
  {
   "cell_type": "markdown",
   "metadata": {},
   "source": [
    "### Human Learning"
   ]
  },
  {
   "cell_type": "markdown",
   "metadata": {},
   "source": [
    "#### 1) Let us calculate some basic stuff. What is the probabiliy of you dying if you pick a random mushroom and eat?\n",
    "$$\n",
    "P(\\text{poisonous}) = ???\n",
    "$$"
   ]
  },
  {
   "cell_type": "code",
   "execution_count": 13,
   "metadata": {
    "ExecuteTime": {
     "end_time": "2021-04-27T03:46:36.294023Z",
     "start_time": "2021-04-27T03:46:36.284744Z"
    }
   },
   "outputs": [
    {
     "name": "stdout",
     "output_type": "stream",
     "text": [
      "0.4652093156165166\n"
     ]
    }
   ],
   "source": [
    "n_dead = sum(df.xclass=='p')\n",
    "n_all = len(df)\n",
    "\n",
    "p_poison = n_dead/n_all\n",
    "print(p_poison)"
   ]
  },
  {
   "cell_type": "markdown",
   "metadata": {},
   "source": [
    "#### 2) Given that it is a red cap mushroom. What is the probability that it is poisonous?\n",
    "\n",
    "$$\n",
    "P(\\text{poisonous} | \\text{red cap}) = ???\n",
    "$$"
   ]
  },
  {
   "cell_type": "markdown",
   "metadata": {},
   "source": [
    "$$ P(A|B) = \\frac{P(A \\cap B)}{P(B)} $$"
   ]
  },
  {
   "cell_type": "code",
   "execution_count": 16,
   "metadata": {
    "ExecuteTime": {
     "end_time": "2021-04-27T03:54:33.092961Z",
     "start_time": "2021-04-27T03:54:33.074374Z"
    }
   },
   "outputs": [
    {
     "name": "stdout",
     "output_type": "stream",
     "text": [
      "0.07801114444920702 0.16716673810544364 0.4666666666666666\n"
     ]
    }
   ],
   "source": [
    "n_poison_and_red = sum((df.cap_color=='e') & (df.xclass=='p'))\n",
    "n_all = len(df)\n",
    "\n",
    "n_red = sum(df.cap_color=='e')\n",
    "\n",
    "p_poison_and_red = n_poison_and_red/n_all\n",
    "p_red = n_red/n_all\n",
    "p_poison_given_red = p_poison_and_red/p_red\n",
    "print(p_poison_and_red, p_red, p_poison_given_red)"
   ]
  },
  {
   "cell_type": "markdown",
   "metadata": {},
   "source": [
    "#### 3) Given that a mushroom is poisonous. What is the probability that it has a red cap?\n",
    "\n",
    "$$\n",
    "    P(\\text{red cap} | \\text{poisonous}) = ???\n",
    "$$\n"
   ]
  },
  {
   "cell_type": "code",
   "execution_count": 17,
   "metadata": {
    "ExecuteTime": {
     "end_time": "2021-04-27T04:02:02.737557Z",
     "start_time": "2021-04-27T04:02:02.722488Z"
    }
   },
   "outputs": [
    {
     "name": "stdout",
     "output_type": "stream",
     "text": [
      "0.1676904176904177\n"
     ]
    }
   ],
   "source": [
    "poison_only_df = df[df.xclass=='p']\n",
    "n_poison_and_red = sum(poison_only_df.cap_color=='e')\n",
    "print(n_poison_and_red/len(poison_only_df))"
   ]
  },
  {
   "cell_type": "markdown",
   "metadata": {},
   "source": [
    "#### 4) Which cap color has the highest probability of killing you? Should we calculate\n",
    "$$ P(\\text{poisonous} | \\text{red cap}) \\textbf{ or } P(\\text{red cap} | \\text{poisonous}) $$"
   ]
  },
  {
   "cell_type": "code",
   "execution_count": null,
   "metadata": {},
   "outputs": [],
   "source": []
  },
  {
   "cell_type": "markdown",
   "metadata": {},
   "source": [
    "#### 5) If your friend die of eating mushroom, what is the cap color that he most likely ate? Should we calculate\n",
    "$$ P(\\text{poisonous} | \\text{red cap}) \\textbf{ or } P(\\text{red cap} | \\text{poisonous}) $$"
   ]
  },
  {
   "cell_type": "code",
   "execution_count": null,
   "metadata": {},
   "outputs": [],
   "source": []
  },
  {
   "cell_type": "markdown",
   "metadata": {},
   "source": [
    "#### 6) If we were to decide whether to eat a given mushroom or not which one should we calculate?"
   ]
  },
  {
   "cell_type": "code",
   "execution_count": null,
   "metadata": {},
   "outputs": [],
   "source": []
  },
  {
   "cell_type": "markdown",
   "metadata": {},
   "source": [
    "#### 7) What is the relation between\n",
    "$$ P(\\text{poisonous} | \\text{red cap}) \\textbf{ and } P(\\text{red cap} | \\text{poisonous}) $$"
   ]
  },
  {
   "cell_type": "code",
   "execution_count": null,
   "metadata": {},
   "outputs": [],
   "source": []
  },
  {
   "cell_type": "markdown",
   "metadata": {},
   "source": [
    "#### 8) Visualization: Let us learn how to draw some fancy graph? Plot the graph below for all the columns.\n",
    "\n",
    "The width of each bar represents how many mushroom are of given cap_color.\n",
    "\n",
    "The stack shows the percentage of poisonous/edible given cap_color."
   ]
  },
  {
   "cell_type": "code",
   "execution_count": 19,
   "metadata": {
    "ExecuteTime": {
     "end_time": "2021-04-27T04:09:48.025189Z",
     "start_time": "2021-04-27T04:09:47.599882Z"
    }
   },
   "outputs": [
    {
     "data": {
      "text/plain": [
       "[('n', {'total': 1775, 'p': 708, 'e': 1067}),\n",
       " ('g', {'total': 1708, 'p': 808, 'e': 900}),\n",
       " ('e', {'total': 1170, 'p': 546, 'e': 624}),\n",
       " ('y', {'total': 1065, 'p': 665, 'e': 400}),\n",
       " ('w', {'total': 917, 'p': 320, 'e': 597}),\n",
       " ('b', {'total': 168, 'p': 120, 'e': 48}),\n",
       " ('p', {'total': 137, 'p': 88, 'e': 49}),\n",
       " ('c', {'total': 27, 'p': 1, 'e': 26}),\n",
       " ('u', {'total': 16, 'p': 0, 'e': 16}),\n",
       " ('r', {'total': 16, 'p': 0, 'e': 16})]"
      ]
     },
     "execution_count": 19,
     "metadata": {},
     "output_type": "execute_result"
    },
    {
     "data": {
      "image/png": "[encoded data removed]",
      "text/plain": [
       "<Figure size 1440x432 with 1 Axes>"
      ]
     },
     "metadata": {
      "image/png": {
       "height": 376,
       "width": 1157
      },
      "needs_background": "light"
     },
     "output_type": "display_data"
    }
   ],
   "source": [
    "#see pattenrekt.py for the magic optimize it and make a pull request if you like\n",
    "prekt.mushroom_plot(df.cap_color, df.xclass, legend_map={'p': 'Poisonous', 'e': 'Edible'})"
   ]
  },
  {
   "cell_type": "markdown",
   "metadata": {},
   "source": [
    "#### 9) With data exploration from 8) If we want to use exactly one mushroom feature to decide edibility of a mushroom, which one do we use? Code it up."
   ]
  },
  {
   "cell_type": "code",
   "execution_count": 17,
   "metadata": {},
   "outputs": [],
   "source": [
    "#def simple_is_edible(mushroom):\n",
    "    # mushroom should be stuff you get from df.itertuple\n",
    "    #return probability of it being EDIBLE"
   ]
  },
  {
   "cell_type": "markdown",
   "metadata": {},
   "source": [
    "#### 10) How should we draw the probability line whether to eat the mushroom or not? We will cover this later."
   ]
  },
  {
   "cell_type": "code",
   "execution_count": null,
   "metadata": {},
   "outputs": [],
   "source": []
  },
  {
   "cell_type": "markdown",
   "metadata": {},
   "source": [
    "#### 11) What if we want to use more feature? What is \n",
    "$$\n",
    "P(\\text{edible} | \\text{red cap} \\cap \\text{smooth surface} \\cap \\text{black spore})\n",
    "$$\n",
    "\n",
    "How would you implement the equivalent of simple_is_edible? Don't implement it though."
   ]
  },
  {
   "cell_type": "code",
   "execution_count": null,
   "metadata": {},
   "outputs": [],
   "source": []
  },
  {
   "cell_type": "markdown",
   "metadata": {},
   "source": [
    "#### 12) What's wrong with look up table? This is called cursed of dimensionality."
   ]
  },
  {
   "cell_type": "code",
   "execution_count": null,
   "metadata": {},
   "outputs": [],
   "source": []
  },
  {
   "cell_type": "markdown",
   "metadata": {},
   "source": [
    "#### Epilogue\n",
    "\n",
    "Note that we have just made a classifier that can classify a poisonous mushroom from edible one to a certain degree.\n",
    "\n",
    "We 1) learned something about mushroom plotting graph/printing values **then** 2) transfer the knowledge to computer. This is called *human learning*.\n",
    "\n",
    "What we wish to do is to have computer automate the process of learning itself. That to have computer look up the data then figure out how to calculate the probability. \n",
    "\n",
    "(This kind of machine learning is called supervised machine learning for the fact that you supervise the computer on what's right)"
   ]
  },
  {
   "cell_type": "markdown",
   "metadata": {},
   "source": [
    "### Naive Bayes Classifier\n",
    "\n",
    "To make things more concrete let us look at the simplest generative model. Naive Bayes Classifier."
   ]
  },
  {
   "cell_type": "markdown",
   "metadata": {},
   "source": [
    "#### 1) What is the definition of Conditional Probability\n",
    "$$P(A|B) = ???$$\n",
    "\n",
    "Also revert that and find out what is\n",
    "$$\n",
    "P(A \\cap B) = ???\n",
    "$$"
   ]
  },
  {
   "cell_type": "code",
   "execution_count": null,
   "metadata": {},
   "outputs": [],
   "source": []
  },
  {
   "cell_type": "markdown",
   "metadata": {},
   "source": [
    "#### 2) Let\n",
    "\n",
    "- $R$ = Red Cap\n",
    "- $S$ = Smooth Surface\n",
    "- $B$ = Black spore \n",
    "- $E$ = Edible\n",
    "\n",
    "Fill in the blank\n",
    "\n",
    "$$\n",
    "P(E | R \\cap S \\cap B ) = \\frac{P(...)}{P(....)}\n",
    "$$"
   ]
  },
  {
   "cell_type": "code",
   "execution_count": null,
   "metadata": {},
   "outputs": [],
   "source": []
  },
  {
   "cell_type": "markdown",
   "metadata": {},
   "source": [
    "#### 3) What's wrong with using lookup table to calculate the term on the top. (ignore the term at the bottom for now)"
   ]
  },
  {
   "cell_type": "code",
   "execution_count": null,
   "metadata": {},
   "outputs": [],
   "source": []
  },
  {
   "cell_type": "markdown",
   "metadata": {},
   "source": [
    "#### 4) Simplify the term on the top\n",
    "$$\n",
    "P(R \\cap S \\cap B \\cap E) = P(R| ...) \\times P(...)\n",
    "$$"
   ]
  },
  {
   "cell_type": "code",
   "execution_count": null,
   "metadata": {},
   "outputs": [],
   "source": []
  },
  {
   "cell_type": "markdown",
   "metadata": {},
   "source": [
    "#### 5) Simplify it further do it all the way\n",
    "$$\n",
    "P(R \\cap S \\cap B \\cap E) = P(...|...) \\times P(...|...) \\times P(...|...)\\times P(...)\n",
    "$$"
   ]
  },
  {
   "cell_type": "code",
   "execution_count": null,
   "metadata": {},
   "outputs": [],
   "source": []
  },
  {
   "cell_type": "markdown",
   "metadata": {},
   "source": [
    "#### 6) Why is calculating it directly is a bad idea?"
   ]
  },
  {
   "cell_type": "code",
   "execution_count": null,
   "metadata": {},
   "outputs": [],
   "source": []
  },
  {
   "cell_type": "markdown",
   "metadata": {},
   "source": [
    "#### 7) What is Conditional Independence Assumption? Using this assumption what is now the\n",
    "$$ P(R \\cap S \\cap B \\cap E) = ...$$"
   ]
  },
  {
   "cell_type": "code",
   "execution_count": null,
   "metadata": {},
   "outputs": [],
   "source": []
  },
  {
   "cell_type": "markdown",
   "metadata": {},
   "source": [
    "#### 8) What is Prior?"
   ]
  },
  {
   "cell_type": "code",
   "execution_count": null,
   "metadata": {},
   "outputs": [],
   "source": []
  },
  {
   "cell_type": "markdown",
   "metadata": {},
   "source": [
    "#### 9) The denominator is called the evidence term. Why is calculating this a bad idea?"
   ]
  },
  {
   "cell_type": "code",
   "execution_count": null,
   "metadata": {},
   "outputs": [],
   "source": []
  },
  {
   "cell_type": "markdown",
   "metadata": {},
   "source": [
    "#### 10) What do we know about\n",
    "\n",
    "$$P(E| R \\cap S \\cap B) + P(\\sim E| R \\cap S \\cap B)$$"
   ]
  },
  {
   "cell_type": "code",
   "execution_count": null,
   "metadata": {},
   "outputs": [],
   "source": []
  },
  {
   "cell_type": "markdown",
   "metadata": {},
   "source": [
    "#### 11) Show that\n",
    "$$\n",
    "P(R \\cap S \\cap B) = P(...|...)P(...|...)P(...|...)P(...|...)P(E) + P(...|...)P(...|...)P(...|...)P(...|...)P(\\sim E)\n",
    "$$"
   ]
  },
  {
   "cell_type": "code",
   "execution_count": null,
   "metadata": {},
   "outputs": [],
   "source": []
  },
  {
   "cell_type": "markdown",
   "metadata": {},
   "source": [
    "#### 12) Implement the following\n",
    "This will make your life a bit easier"
   ]
  },
  {
   "cell_type": "code",
   "execution_count": null,
   "metadata": {},
   "outputs": [],
   "source": [
    "# class NaiveBayes:\n",
    "#     def __init__(self, df, class_col):\n",
    "#         #do something\n",
    "#         #you *may* want to cache every possible query for cond_prof. Up to you.\n",
    "#         pass\n",
    "#\n",
    "#     # ex: cond_prof('cap_color','r','e') => P(cap_color==red|edible)\n",
    "#     def cond_prob(self, feature_col, feature_value, class_value):\n",
    "#          return P(feature_col==feature_value | class_col==class_value)\n",
    "#   \n",
    "#     #mushroom is stuff you got from itertuple\n",
    "#     def prob_edible(self, mushroom):\n",
    "#         return P(edible | all mushroom features)"
   ]
  },
  {
   "cell_type": "markdown",
   "metadata": {},
   "source": [
    "#### 13) There is a test file at mushrooms_test.csv\n",
    "\n",
    "If we make a cut at probability of 0.5(that is >=0.5 edible, <0.5 don't eat). How many do we get correctly?\n",
    "\n"
   ]
  },
  {
   "cell_type": "code",
   "execution_count": null,
   "metadata": {},
   "outputs": [],
   "source": []
  },
  {
   "cell_type": "markdown",
   "metadata": {},
   "source": [
    "#### 14) Why don't we test on the train data? We will cover this later."
   ]
  },
  {
   "cell_type": "code",
   "execution_count": null,
   "metadata": {},
   "outputs": [],
   "source": []
  },
  {
   "cell_type": "markdown",
   "metadata": {},
   "source": [
    "#### 15) Is 0.5 cutoff a good idea? We will also talk about his later."
   ]
  },
  {
   "cell_type": "code",
   "execution_count": null,
   "metadata": {},
   "outputs": [],
   "source": []
  }
 ],
 "metadata": {
  "hide_input": false,
  "kernelspec": {
   "display_name": "Python 3",
   "language": "python",
   "name": "python3"
  },
  "language_info": {
   "codemirror_mode": {
    "name": "ipython",
    "version": 3
   },
   "file_extension": ".py",
   "mimetype": "text/x-python",
   "name": "python",
   "nbconvert_exporter": "python",
   "pygments_lexer": "ipython3",
   "version": "3.7.3"
  },
  "toc": {
   "colors": {
    "hover_highlight": "#DAA520",
    "running_highlight": "#FF0000",
    "selected_highlight": "#FFD700"
   },
   "moveMenuLeft": true,
   "nav_menu": {
    "height": "12px",
    "width": "252px"
   },
   "navigate_menu": true,
   "number_sections": false,
   "sideBar": true,
   "threshold": 4,
   "toc_cell": false,
   "toc_section_display": "block",
   "toc_window_display": true
  }
 },
 "nbformat": 4,
 "nbformat_minor": 2
}
